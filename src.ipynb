{
 "cells": [
  {
   "cell_type": "code",
   "execution_count": 8,
   "metadata": {},
   "outputs": [],
   "source": [
    "import os\n",
    "from dotenv import load_dotenv"
   ]
  },
  {
   "cell_type": "markdown",
   "metadata": {},
   "source": [
    "### Loading the environment Variables"
   ]
  },
  {
   "cell_type": "code",
   "execution_count": 9,
   "metadata": {},
   "outputs": [
    {
     "data": {
      "text/plain": [
       "True"
      ]
     },
     "execution_count": 9,
     "metadata": {},
     "output_type": "execute_result"
    }
   ],
   "source": [
    "load_dotenv()"
   ]
  },
  {
   "cell_type": "markdown",
   "metadata": {},
   "source": [
    "### Obtaining the LLM Model"
   ]
  },
  {
   "cell_type": "code",
   "execution_count": 10,
   "metadata": {},
   "outputs": [],
   "source": [
    "from langchain_groq import ChatGroq\n",
    "\n",
    "llm = ChatGroq(\n",
    "    model=\"llama-3.1-70b-versatile\",\n",
    "    temperature=0.7\n",
    ")"
   ]
  },
  {
   "cell_type": "code",
   "execution_count": 11,
   "metadata": {},
   "outputs": [
    {
     "data": {
      "text/plain": [
       "'I\\'m an artificial intelligence model known as Llama. Llama stands for \"Large Language Model Meta AI.\"'"
      ]
     },
     "execution_count": 11,
     "metadata": {},
     "output_type": "execute_result"
    }
   ],
   "source": [
    "t=llm.invoke(\"who are you ?\")\n",
    "t.content"
   ]
  },
  {
   "cell_type": "markdown",
   "metadata": {},
   "source": [
    "### Web Based Scraping "
   ]
  },
  {
   "cell_type": "code",
   "execution_count": 12,
   "metadata": {},
   "outputs": [
    {
     "name": "stderr",
     "output_type": "stream",
     "text": [
      "USER_AGENT environment variable not set, consider setting it to identify your requests.\n"
     ]
    }
   ],
   "source": [
    "from langchain_community.document_loaders import WebBaseLoader\n",
    "\n",
    "loader = WebBaseLoader(web_path=\"https://www.google.com/about/careers/applications/jobs/results/116221099686929094-account-executive-midmarket-sales-google-customer-solutions\")"
   ]
  },
  {
   "cell_type": "code",
   "execution_count": 13,
   "metadata": {},
   "outputs": [
    {
     "data": {
      "text/plain": [
       "\"Account Executive, Mid-Market Sales, Google Customer Solutions — Google CareersCareersSkip navigation linksTeamsLocationsBenefitsJobsStudentsYour careerarrow_drop_downYour career menu ApplicationsProfileSaved jobsJob alertsSign inCareersApplicationsProfileSearch jobsSaved jobsJob alertsTeamsLocationsBenefitsJobsStudentsHelpSend Feedbackjob detailsarrow_backBack to jobs searchJobs search results1,840  jobs matchedAccount Executive, Mid-Market Sales, Google Customer SolutionsMumbai, Maharashtra, India; Gurgaon, Haryana, India; +2 more; +1 moreSoftware Engineer III, Infrastructure, CoreBengaluru, Karnataka, IndiaSenior Software Engineer, AI/ML GenAI, Google Cloud AISunnyvale, CA, USA; Kirkland, WA, USASenior Program Manager, Supply Chain Operations, Hardware FulfillmentSunnyvale, CA, USASoftware Engineer, Silicon Engineering ProductivityBengaluru, Karnataka, IndiaData Center Security ManagerSkien, NorwayTechnical Program Manager II, Infrastructure Resource Management, YouTubeMountain View, CA, USA; San Bruno, CA, USAIndustry Manager, Retail, Large Customer Sales (Fixed-Term Contract) (English, Italian)Milan, Metropolitan City of Milan, ItalyKey Account Executive, Digital Natives Enterprise, Google CloudSydney NSW, AustraliaStrategy and Operations Manager III, Google CloudWarsaw, Poland; Kraków, PolandSystem Level Test Engineer, Custom SiliconNew Taipei, Banqiao District, New Taipei City, TaiwanProduct Solutions Engineer, Distribution TechnologySingaporeTechnical Writer, Business Application Platform, Information ExperienceBengaluru, Karnataka, IndiaDigital Sales Representative, Public SectorReston, VA, USAProgram Manager, Global Network Delivery, DCNet DeliverySingaporeSoftware Engineering Manager, ML InfraSunnyvale, CA, USA; Mountain View, CA, USASenior Software Engineer, Engineering Productivity, SiliconBengaluru, Karnataka, IndiaHardware Design Engineer, Board and Systems, Google CloudSunnyvale, CA, USATechnical Program Manager, WAN Infrastructure and CapacitySingaporeVice President, Software Engineering, Data Center InfrastructureSunnyvale, CA, USA1‑20 of 1840navigate_nextFollow Life at Google on More about usAbout usopen_in_newContact usopen_in_newPressopen_in_newRelated InformationInvestor relationsopen_in_newBlogopen_in_newEqual OpportunityGoogle is proud to be an equal opportunity and affirmative action employer. We are committed to building a workforce that is representative of the users we serve, creating a culture of belonging, and providing an equal employment opportunity regardless of race, creed, color, religion, gender, sexual orientation, gender identity/expression, national origin, disability, age, genetic information, veteran status, marital status, pregnancy or related condition (including breastfeeding), expecting or parents-to-be, criminal histories consistent with legal requirements, or any other basis protected by law. See also  Google's EEO Policy, Know your rights: workplace discrimination is illegal, Belonging at Google, and How we hire.More about usexpand_moreRelated informationexpand_moreEqual opportunityexpand_morePrivacyopen_in_newApplicant & Candidate Privacyopen_in_newTermsopen_in_newhelpHelpopen_in_newarrow_backBack to jobs searchAccount Executive, Mid-Market Sales, Google Customer Solutionsshare linkCopy linkemailEmail a friendcorporate_fareGoogleplaceMumbai, Maharashtra, India; Gurgaon, Haryana, India; +2 more; +1 morebar_chartMidMidExperience driving progress, solving problems, and mentoring more junior team members; deeper expertise and applied knowledge within relevant area.Applyshare linkCopy linkemailEmail a friendinfo_outlineXNote: By applying to this position you will have an opportunity to share your preferred working location from the following: Mumbai, Maharashtra, India; Gurgaon, Haryana, India; Bengaluru, Karnataka, India.Minimum qualifications:\\nBachelor's degree or equivalent practical experience.\\n5 years of experience in sales, advertising, or marketing.\\nPreferred qualifications:\\nKnowledge of traditional and online marketing strategy and tactics, and products across all digital advertising product areas.\\nKnowledge of the local market with excellent analytical skills.\\nAbility to think strategically about complex issues and develop recommendations and action plans.\\nDemonstrated ability to lead and manage multiple projects with a broad range of internal and external constituents simultaneously.\\nAbout the jobBusinesses that partner with Google come in all shapes, sizes and market caps, and no one Google advertising solution works for all. Your knowledge of online media combined with your communication skills and analytical abilities shapes how new and existing businesses grow. Using your relationship-building skills, you provide Google-caliber client service, research and market analysis. You anticipate how decisions are made, persistently explore and uncover the business needs of Google's key clients and understand how our range of product offerings can grow their business. Working with them, you set the vision and the strategy for how their advertising can reach thousands of users.\\nAs an Account Executive, you will work with your respective set of advertisers to shape their business growth and strengthen long-term relationships. You will drive scalable product adoption and business growth. In this role, you will anticipate how decisions are made at a C-Level, you will explore and uncover the business needs of customers, and understand how our range of product offerings can grow their business. You will set the goal and strategy for how their advertising can reach users.Google Customer Solutions (GCS) sales teams are trusted advisors and competitive sellers who maintain a relentless focus on customer success by bringing the best Google has to offer to small- and medium-sized businesses (SMBs), which are the backbone of our communities. As a member of our team, you’ll have the opportunity to work with company owners and make a real difference in their businesses by helping them grow.  Together, we help shape the future of innovation for customers, partners, and sellers...and we have fun doing it.Responsibilities\\nAnticipate how decisions are made at a C-Level, explore and uncover the business needs of customers, and understand how our range of product offerings can grow their business. Set the goal and strategy for how their advertising can reach users.\\nManage a portfolio of customers alongside account managers to consistently deliver against goals, while prioritizing and delivering an outstanding sales experience to customers.\\nEstablish credibility with executives and serve as a trusted consultant to optimize and expand their advertising investment, by understanding business drivers, identifying opportunities for growth, managing risks, and creating multi-quarter plans for sustainable business growth.\\nDrive business growth, long-term partnerships, business planning and strategy, review, and education for customers. Coach peers proactively in the organization to create skill lift that drives customer growth.\\nInformation collected and processed as part of your Google Careers profile, and any job applications you choose to submit is subject to Google's Applicant and Candidate Privacy Policy.Google is proud to be an equal opportunity and affirmative action employer. We are committed to building a workforce that is representative of the users we serve, creating a culture of belonging, and providing an equal employment opportunity regardless of race, creed, color, religion, gender, sexual orientation, gender identity/expression, national origin, disability, age, genetic information, veteran status, marital status, pregnancy or related condition (including breastfeeding), expecting or parents-to-be, criminal histories consistent with legal requirements, or any other basis protected by law. See also  Google's EEO Policy, Know your rights: workplace discrimination is illegal, Belonging at Google, and How we hire.If you have a need that requires accommodation, please let us know by completing our Accommodations for Applicants form.Google is a global company and, in order to facilitate efficient collaboration and communication globally, English proficiency is a requirement for all roles unless stated otherwise in the job posting.To all recruitment agencies: Google does not accept agency resumes. Please do not forward resumes to our jobs alias, Google employees, or any other organization location. Google is not responsible for any fees related to unsolicited resumes.Follow Life at Google on More about usAbout usopen_in_newContact usopen_in_newPressopen_in_newRelated InformationInvestor relationsopen_in_newBlogopen_in_newEqual OpportunityGoogle is proud to be an equal opportunity and affirmative action employer. We are committed to building a workforce that is representative of the users we serve, creating a culture of belonging, and providing an equal employment opportunity regardless of race, creed, color, religion, gender, sexual orientation, gender identity/expression, national origin, disability, age, genetic information, veteran status, marital status, pregnancy or related condition (including breastfeeding), expecting or parents-to-be, criminal histories consistent with legal requirements, or any other basis protected by law. See also  Google's EEO Policy, Know your rights: workplace discrimination is illegal, Belonging at Google, and How we hire.More about usexpand_moreRelated informationexpand_moreEqual opportunityexpand_morePrivacyopen_in_newApplicant & Candidate Privacyopen_in_newTermsopen_in_newhelpHelpopen_in_newFollow Life at Google on More about usAbout usopen_in_newContact usopen_in_newPressopen_in_newRelated InformationInvestor relationsopen_in_newBlogopen_in_newEqual OpportunityGoogle is proud to be an equal opportunity and affirmative action employer. We are committed to building a workforce that is representative of the users we serve, creating a culture of belonging, and providing an equal employment opportunity regardless of race, creed, color, religion, gender, sexual orientation, gender identity/expression, national origin, disability, age, genetic information, veteran status, marital status, pregnancy or related condition (including breastfeeding), expecting or parents-to-be, criminal histories consistent with legal requirements, or any other basis protected by law. See also  Google's EEO Policy, Know your rights: workplace discrimination is illegal, Belonging at Google, and How we hire.More about usexpand_moreRelated informationexpand_moreEqual opportunityexpand_morePrivacyopen_in_newApplicant & Candidate Privacyopen_in_newTermsopen_in_newhelpHelpopen_in_newGoogle appsMain menu\""
      ]
     },
     "execution_count": 13,
     "metadata": {},
     "output_type": "execute_result"
    }
   ],
   "source": [
    "page_data = loader.load().pop().page_content\n",
    "page_data"
   ]
  },
  {
   "cell_type": "markdown",
   "metadata": {},
   "source": [
    "### Prompt Template for LLM Model"
   ]
  },
  {
   "cell_type": "code",
   "execution_count": 14,
   "metadata": {},
   "outputs": [
    {
     "data": {
      "text/plain": [
       "{'role': 'Account Executive, Mid-Market Sales, Google Customer Solutions',\n",
       " 'experience': '5 years of experience in sales, advertising, or marketing',\n",
       " 'skills': ['Knowledge of traditional and online marketing strategy and tactics',\n",
       "  'Knowledge of the local market with excellent analytical skills',\n",
       "  'Ability to think strategically about complex issues and develop recommendations and action plans',\n",
       "  'Demonstrated ability to lead and manage multiple projects with a broad range of internal and external constituents simultaneously'],\n",
       " 'description': 'As an Account Executive, you will work with your respective set of advertisers to shape their business growth and strengthen long-term relationships. You will drive scalable product adoption and business growth. In this role, you will anticipate how decisions are made at a C-Level, you will explore and uncover the business needs of customers, and understand how our range of product offerings can grow their business.'}"
      ]
     },
     "execution_count": 14,
     "metadata": {},
     "output_type": "execute_result"
    }
   ],
   "source": [
    "from langchain.schema import SystemMessage, HumanMessage, AIMessage\n",
    "from langchain.prompts import PromptTemplate\n",
    "from langchain_core.output_parsers import JsonOutputParser\n",
    "\n",
    "\n",
    "template =PromptTemplate.from_template (\"\"\"\n",
    "        ### Scraped Text From Website :\n",
    "        {page_data}\n",
    "        ## Instruction  \n",
    "        Based on the data given above is the content of career's page of a website.\n",
    "        You are requiremt to extract the job posting and return them in JSON fromat with no PREAMBLE.\n",
    "        These should be the keys: 'role', 'expereince' ,'skills' and 'description' .\n",
    "        ONLY return VALID JSON.                              \n",
    "        \"\"\")\n",
    "\n",
    "parser = JsonOutputParser()\n",
    "\n",
    "chain = template | llm | parser\n",
    "response=chain.invoke(input={'page_data':page_data})\n",
    "response"
   ]
  },
  {
   "cell_type": "code",
   "execution_count": 15,
   "metadata": {},
   "outputs": [],
   "source": [
    "import pandas as pd"
   ]
  },
  {
   "cell_type": "code",
   "execution_count": 16,
   "metadata": {},
   "outputs": [],
   "source": [
    "df = pd.read_csv(\"my_portfolio.csv\")"
   ]
  },
  {
   "cell_type": "code",
   "execution_count": 17,
   "metadata": {},
   "outputs": [
    {
     "data": {
      "text/html": [
       "<div>\n",
       "<style scoped>\n",
       "    .dataframe tbody tr th:only-of-type {\n",
       "        vertical-align: middle;\n",
       "    }\n",
       "\n",
       "    .dataframe tbody tr th {\n",
       "        vertical-align: top;\n",
       "    }\n",
       "\n",
       "    .dataframe thead th {\n",
       "        text-align: right;\n",
       "    }\n",
       "</style>\n",
       "<table border=\"1\" class=\"dataframe\">\n",
       "  <thead>\n",
       "    <tr style=\"text-align: right;\">\n",
       "      <th></th>\n",
       "      <th>Techstack</th>\n",
       "      <th>Links</th>\n",
       "    </tr>\n",
       "  </thead>\n",
       "  <tbody>\n",
       "    <tr>\n",
       "      <th>0</th>\n",
       "      <td>React, Node.js, MongoDB</td>\n",
       "      <td>https://example.com/react-portfolio</td>\n",
       "    </tr>\n",
       "    <tr>\n",
       "      <th>1</th>\n",
       "      <td>Angular,.NET, SQL Server</td>\n",
       "      <td>https://example.com/angular-portfolio</td>\n",
       "    </tr>\n",
       "    <tr>\n",
       "      <th>2</th>\n",
       "      <td>Vue.js, Ruby on Rails, PostgreSQL</td>\n",
       "      <td>https://example.com/vue-portfolio</td>\n",
       "    </tr>\n",
       "  </tbody>\n",
       "</table>\n",
       "</div>"
      ],
      "text/plain": [
       "                           Techstack                                  Links\n",
       "0            React, Node.js, MongoDB    https://example.com/react-portfolio\n",
       "1           Angular,.NET, SQL Server  https://example.com/angular-portfolio\n",
       "2  Vue.js, Ruby on Rails, PostgreSQL      https://example.com/vue-portfolio"
      ]
     },
     "execution_count": 17,
     "metadata": {},
     "output_type": "execute_result"
    }
   ],
   "source": [
    "df.head(3)"
   ]
  },
  {
   "cell_type": "markdown",
   "metadata": {},
   "source": [
    "### Creating a Vector Database using ChromaDB"
   ]
  },
  {
   "cell_type": "code",
   "execution_count": 18,
   "metadata": {},
   "outputs": [],
   "source": [
    "import chromadb\n",
    "import uuid\n",
    "chroma_client = chromadb.PersistentClient()\n",
    "\n",
    "collection = chroma_client.get_or_create_collection(name=\"TechStack\")\n",
    "\n",
    "if not collection.count():\n",
    "    for _,row in df.iterrows():\n",
    "        document_id = str(uuid.uuid4())\n",
    "\n",
    "        collection.add(\n",
    "            documents=[row['Techstack']], \n",
    "            metadatas=[{'link': row['Links']}],  \n",
    "            ids=[document_id]  \n",
    "        )"
   ]
  },
  {
   "cell_type": "code",
   "execution_count": 19,
   "metadata": {},
   "outputs": [
    {
     "data": {
      "text/plain": [
       "list"
      ]
     },
     "execution_count": 19,
     "metadata": {},
     "output_type": "execute_result"
    }
   ],
   "source": [
    "links = collection.query(\n",
    "    query_texts=['Experience in Python','Expereicne in React'],\n",
    "    n_results=2\n",
    ")['metadatas']\n",
    "type(links)"
   ]
  },
  {
   "cell_type": "code",
   "execution_count": 20,
   "metadata": {},
   "outputs": [
    {
     "data": {
      "text/plain": [
       "[[{'link': 'https://example.com/ml-python-portfolio'},\n",
       "  {'link': 'https://example.com/python-portfolio'}],\n",
       " [{'link': 'https://example.com/react-portfolio'},\n",
       "  {'link': 'https://example.com/react-native-portfolio'}]]"
      ]
     },
     "execution_count": 20,
     "metadata": {},
     "output_type": "execute_result"
    }
   ],
   "source": [
    "links"
   ]
  },
  {
   "cell_type": "markdown",
   "metadata": {},
   "source": [
    "### Integrating the Initial LLM response With the DataBase\n"
   ]
  },
  {
   "cell_type": "code",
   "execution_count": 25,
   "metadata": {},
   "outputs": [
    {
     "name": "stdout",
     "output_type": "stream",
     "text": [
      "<class 'dict'> "
     ]
    }
   ],
   "source": [
    "print(type(response),end=\" \")\n",
    "output=response\n"
   ]
  },
  {
   "cell_type": "code",
   "execution_count": 26,
   "metadata": {},
   "outputs": [
    {
     "data": {
      "text/plain": [
       "{'role': 'Account Executive, Mid-Market Sales, Google Customer Solutions',\n",
       " 'experience': '5 years of experience in sales, advertising, or marketing',\n",
       " 'skills': ['Knowledge of traditional and online marketing strategy and tactics',\n",
       "  'Knowledge of the local market with excellent analytical skills',\n",
       "  'Ability to think strategically about complex issues and develop recommendations and action plans',\n",
       "  'Demonstrated ability to lead and manage multiple projects with a broad range of internal and external constituents simultaneously'],\n",
       " 'description': 'As an Account Executive, you will work with your respective set of advertisers to shape their business growth and strengthen long-term relationships. You will drive scalable product adoption and business growth. In this role, you will anticipate how decisions are made at a C-Level, you will explore and uncover the business needs of customers, and understand how our range of product offerings can grow their business.'}"
      ]
     },
     "execution_count": 26,
     "metadata": {},
     "output_type": "execute_result"
    }
   ],
   "source": [
    "output"
   ]
  },
  {
   "cell_type": "code",
   "execution_count": 27,
   "metadata": {},
   "outputs": [
    {
     "data": {
      "text/plain": [
       "'ATIR SHAKHRELIA\\nBoston, MA | +1 (857) 605-9479 | shakhrelia.a@northeastern.edu | LinkedIn | GitHub\\nEDUCATION\\nNortheastern University - Khoury College of Computer Sciences Boston, USA\\nMaster of Science, Computer Science, GPA: 4.0 May 2026\\n◦ Relevant Coursework: Programming Design Paradigms, Data Management and Processing, Algorithms,\\nMobile Application Development\\nNirma University - Institute of Technology Ahmedabad, India\\nBachelor of Technology, Computer Science and Engineering, GPA: 4.0 Jun 2024\\n◦ Relevant Coursework: Data Structures and Algorithms, Object Oriented Programming, Operating Systems,\\nDatabases, Machine Learning, Deep Learning, Big Data Technologies, Data Mining, Blockchain Technology\\nEXPERIENCE\\nJohnson Controls-Hitachi Ahmedabad, India\\nResearch and Development Intern Jan 2024 - Jun 2024\\n* Developed a robust Bluetooth communication infrastructure usingSilicon Labs EK4108-A.\\n* Implemented a nested hashing algorithm, achieving a 33% increase in non-line-of-sight (NLOS) communication\\nstability.\\n* Built a mobile application using Java’s Android SDK in Android Studio to replicate IR remote functionality, enabling\\nfaster device communication and achieving a40% reduction in response time.\\n* Optimized Bluetooth configurations, extending the communication range from7m to 55m, addressing the limitations of\\nprevious configurations.\\nSixth Sense Info Pvt. L TD Ahmedabad, India\\nWeb Development Intern May 2022 - Jul 2022\\n* Engineered a WordPress-based CMS to streamline content management workflows, enhancing user experience.\\n* Configured SEO strategies and advanced analytics, increasing user engagement by40% and page views by 25%.\\n* Improved website performance by optimizing code and implementingcaching strategies, reducing page load time by\\n30%.\\nACADEMIC PROJECTS AND RESEARCH\\nDrowsiness Detection for Intelligent Transportation Systems\\n◦ Utilized Federated Learningto train CNN models across decentralized data sources, achieving a97.45% global model accuracy while\\nensuring data privacy.\\n◦ Engineered a blockchain-based smart contractusing Solidity to securely integrate the detection output, enhancing the efficiency of\\ndata storage by 40% and enhancing data integrity and traceability.\\nImageLab\\n◦ Designed a command-line-based image processing application usingJava and the MVC design pattern, incorporating advanced principles\\nlike the Command Design Pattern to ensure modularity, code reusability, and a highly extensible and scalable architecture while\\nminimizing code duplication and reducing technical debt.\\n◦ Integrated a GUI using Swing, enhancing user experience with an intuitive interface for seamless interaction with the application.\\n◦ Conducted over 400 JUnit tests to ensure high-quality code with extensive unit test coverage, achieving improved reliability and\\nmaintainability.\\nStock Pattern Analysis\\n◦ Led the development of a pattern analysis system usingPython, leveraging Spearman’s rank coefficientto reduce computation time by\\n90% compared to the CNN models used by other teams.\\n◦ Achieved first prize and received accolades for outperforming all participants in the track.\\nBookNest : An online BookStore Application\\n◦ Developed a full-stack web application using Java (Spring Boot) for backend and React.js for frontend, integrated with aMySQL\\ndatabase for managing books, user authentication, and order processing.\\nSKILLS\\nLanguages : Python, Java, C++, C, SQL, Unix Scripting, HTML, CSS, Javascript, Solidity.\\nTechnologies : MongoDB, Oracle SQL, Hadoop, Spark, Tableau, GitHub, PostMan.\\nFrameworks : Flask, Django, Junit, Swing, AWT .\\nACHIEVEMENTS\\nAwarded Gold Medal for securing the highest GPA in Computer Science and Engineering at Nirma University.\\nPublished 3 research papers: 2 in IEEE conferences and 1 in Springer, focusing on machine learning and intelligent systems.\\nNational Hackathon Track Winnerat MiNed Hackathon for developing an innovative Stock Pattern Analysis usingPython,\\ndemonstrating technical expertise and creativity.\\nCompleted the Stanford University DeepLearning.AI Machine Learning Specialization on Coursera, covering topics like\\nsupervised learning, advanced algorithms, and reinforcement learning.'"
      ]
     },
     "execution_count": 27,
     "metadata": {},
     "output_type": "execute_result"
    }
   ],
   "source": [
    "from langchain.document_loaders import PyPDFLoader\n",
    "\n",
    "pdf_path = \"Atir_Shakhrelia_SDE.pdf\"\n",
    "loader = PyPDFLoader(pdf_path)\n",
    "documents = loader.load()\n",
    "pdf_text = \" \".join([document.page_content for document in documents])\n",
    "pdf_text"
   ]
  },
  {
   "cell_type": "code",
   "execution_count": 29,
   "metadata": {},
   "outputs": [
    {
     "name": "stdout",
     "output_type": "stream",
     "text": [
      "Subject: Driving Business Growth through Innovative Solutions\n",
      "\n",
      "Dear Hiring Manager,\n",
      "\n",
      "I came across the Account Executive role at your esteemed organization, and I am excited to introduce myself as a strong candidate who can drive scalable product adoption and business growth. With a solid educational background in Computer Science and a proven track record of delivering high-impact projects, I am confident in my ability to shape business growth and strengthen long-term relationships with your advertisers.\n",
      "\n",
      "As a highly motivated and results-driven individual, I have developed a unique blend of technical and business skills, which enables me to understand the needs of customers and provide tailored solutions. My experience in research and development, web development, and academic projects has equipped me with a strong foundation in programming languages, data management, and machine learning. I am excited about the opportunity to leverage my skills to drive business growth and explore new opportunities for your organization.\n",
      "\n",
      "I would like to highlight a few notable projects from my portfolio that demonstrate my capabilities:\n",
      "\n",
      "* Drowsiness Detection for Intelligent Transportation Systems: Utilized Federated Learning to train CNN models, achieving 97.45% global model accuracy while ensuring data privacy.\n",
      "* ImageLab: Designed a command-line-based image processing application using Java and the MVC design pattern, incorporating advanced principles like the Command Design Pattern.\n",
      "* Stock Pattern Analysis: Led the development of a pattern analysis system using Python, leveraging Spearman’s rank coefficient to reduce computation time by 90% compared to the CNN models used by other teams.\n",
      "\n",
      "To further showcase my portfolio, I would like to share the following relevant links:\n",
      "https://example.com/ml-python-portfolio\n",
      "https://example.com/python-portfolio\n",
      "\n",
      "These links demonstrate my expertise in machine learning and Python, which I believe would be highly valuable in driving business growth and exploring new opportunities for your organization.\n",
      "\n",
      "I would welcome the opportunity to discuss my application and how my skills and experience align with the requirements of the Account Executive role. Please do not hesitate to contact me at +1 (857) 605-9479 or shakhrelia.a@northeastern.edu.\n",
      "\n",
      "Thank you for considering my application. I look forward to the opportunity to contribute to your organization's success.\n",
      "\n",
      "Best regards,\n",
      "\n",
      "Mohan\n",
      "BDE at AtliQ\n"
     ]
    }
   ],
   "source": [
    "prompt_email = PromptTemplate.from_template(\n",
    "        \"\"\"\n",
    "        ### JOB DESCRIPTION:\n",
    "        {job_description}\n",
    "        \n",
    "        ### RESUME CONTENT\n",
    "        {resume_text}\n",
    "\n",
    "        ### INSTRUCTION:\n",
    "        You are an expert cold-email generation. On the basis of the job description and the resume  provided above generate a cold-email for the \n",
    "        job descriton.\n",
    "        Your job is to write a cold email to the client regarding the job mentioned above describing the capability \n",
    "        in fulfilling their needs.\n",
    "        Also add the most relevant ones from the following links to showcase Atliq's portfolio: {link_list}\n",
    "        Remember you are Mohan, BDE at AtliQ. \n",
    "        Do not provide a preamble.\n",
    "        ### EMAIL (NO PREAMBLE):\n",
    "        \n",
    "        \"\"\"\n",
    "        )\n",
    "\n",
    "chain_email = prompt_email | llm\n",
    "\n",
    "res = chain_email.invoke({\"job_description\":output['description'],\"link_list\":links,\"resume_text\":pdf_text}).content\n",
    "\n",
    "print(res)"
   ]
  },
  {
   "cell_type": "code",
   "execution_count": null,
   "metadata": {},
   "outputs": [],
   "source": []
  }
 ],
 "metadata": {
  "kernelspec": {
   "display_name": "Python 3",
   "language": "python",
   "name": "python3"
  },
  "language_info": {
   "codemirror_mode": {
    "name": "ipython",
    "version": 3
   },
   "file_extension": ".py",
   "mimetype": "text/x-python",
   "name": "python",
   "nbconvert_exporter": "python",
   "pygments_lexer": "ipython3",
   "version": "3.10.0"
  }
 },
 "nbformat": 4,
 "nbformat_minor": 2
}
